{
 "cells": [
  {
   "cell_type": "code",
   "execution_count": 1,
   "id": "cb897c09-07a1-4c6b-b3cf-84ca7a692a17",
   "metadata": {},
   "outputs": [],
   "source": [
    "import cv2\n",
    "import numpy\n"
   ]
  },
  {
   "cell_type": "code",
   "execution_count": 2,
   "id": "d62872fe-f262-48f5-a8f8-def882ce9cfd",
   "metadata": {},
   "outputs": [],
   "source": [
    "def color_extraction(img):\n",
    "\n",
    "    IL, Ia, Ib = cv2.split(img)\n",
    "    avg_IL = np.mean(IL)\n",
    "    avg_Ia = np.mean(Ia)\n",
    "    avg_Ib = np.mean(Ib)\n",
    "\n",
    "    IThL = np.where(IL >= avg_IL, 1, 0)\n",
    "    ITha = np.where(Ia >= avg_Ia, 1, 0)\n",
    "    IThb = np.where(Ib >= avg_Ib, 1, 0)\n",
    "\n",
    "    Ibin = np.logical_and.reduce((IThL, ITha, IThb)).astype(np.uint8) * 255\n",
    "\n",
    "    return Ibin"
   ]
  },
  {
   "cell_type": "code",
   "execution_count": 3,
   "id": "387b6ff1-0220-4a76-b5d3-300ddbcf9f86",
   "metadata": {},
   "outputs": [],
   "source": [
    "def roi_of_image(image):\n",
    "    image_blurred = cv2.GaussianBlur(image, (5, 5), 0)\n",
    "    \n",
    "    image_lab = cv2.cvtColor(image_blurred, cv2.COLOR_BGR2Lab)\n",
    "\n",
    "    #created a binary mask and used it to map over the img\n",
    "    Ibin = color_extraction(image_lab)\n",
    "    median_filtered = cv2.medianBlur(Ibin, 5) #bug?\n",
    "    \n",
    "    #found out the ROI of the img\n",
    "    contours, _ = cv2.findContours(median_filtered, cv2.RETR_EXTERNAL, cv2.CHAIN_APPROX_SIMPLE)\n",
    "    x, y, w, h = cv2.boundingRect(contours[0])\n",
    "    roi_image = image[y:y+h, x:x+w]\n",
    "    \n",
    "    \n",
    "    return roi_image"
   ]
  }
 ],
 "metadata": {
  "kernelspec": {
   "display_name": "Python 3 (ipykernel)",
   "language": "python",
   "name": "python3"
  },
  "language_info": {
   "codemirror_mode": {
    "name": "ipython",
    "version": 3
   },
   "file_extension": ".py",
   "mimetype": "text/x-python",
   "name": "python",
   "nbconvert_exporter": "python",
   "pygments_lexer": "ipython3",
   "version": "3.11.5"
  }
 },
 "nbformat": 4,
 "nbformat_minor": 5
}
