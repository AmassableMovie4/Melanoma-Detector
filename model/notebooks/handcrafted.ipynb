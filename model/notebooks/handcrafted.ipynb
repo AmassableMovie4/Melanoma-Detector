{
 "cells": [
  {
   "cell_type": "code",
   "execution_count": 1,
   "id": "5ffce56b-5474-4795-8821-87eb12cff37d",
   "metadata": {},
   "outputs": [
    {
     "name": "stdout",
     "output_type": "stream",
     "text": [
      "Requirement already satisfied: scikit-image in /home/vuk/miniconda3/lib/python3.11/site-packages (0.22.0)\n",
      "Requirement already satisfied: numpy>=1.22 in /home/vuk/miniconda3/lib/python3.11/site-packages (from scikit-image) (1.26.4)\n",
      "Requirement already satisfied: scipy>=1.8 in /home/vuk/miniconda3/lib/python3.11/site-packages (from scikit-image) (1.12.0)\n",
      "Requirement already satisfied: networkx>=2.8 in /home/vuk/miniconda3/lib/python3.11/site-packages (from scikit-image) (3.2.1)\n",
      "Requirement already satisfied: pillow>=9.0.1 in /home/vuk/miniconda3/lib/python3.11/site-packages (from scikit-image) (10.1.0)\n",
      "Requirement already satisfied: imageio>=2.27 in /home/vuk/miniconda3/lib/python3.11/site-packages (from scikit-image) (2.34.0)\n",
      "Requirement already satisfied: tifffile>=2022.8.12 in /home/vuk/miniconda3/lib/python3.11/site-packages (from scikit-image) (2024.2.12)\n",
      "Requirement already satisfied: packaging>=21 in /home/vuk/miniconda3/lib/python3.11/site-packages (from scikit-image) (23.1)\n",
      "Requirement already satisfied: lazy_loader>=0.3 in /home/vuk/miniconda3/lib/python3.11/site-packages (from scikit-image) (0.3)\n"
     ]
    }
   ],
   "source": [
    "!pip install --upgrade scikit-image"
   ]
  },
  {
   "cell_type": "code",
   "execution_count": 2,
   "id": "1ea0c311-7f2d-452d-bedc-2dcf6389ac1a",
   "metadata": {},
   "outputs": [],
   "source": [
    "from skimage.feature import graycomatrix, graycoprops\n",
    "import matplotlib.pyplot as plt\n",
    "import numpy as np"
   ]
  },
  {
   "cell_type": "code",
   "execution_count": 5,
   "id": "7337d0ad-a15c-4e23-b268-a3fa68d02bc6",
   "metadata": {},
   "outputs": [
    {
     "ename": "NameError",
     "evalue": "name 'output_image' is not defined",
     "output_type": "error",
     "traceback": [
      "\u001b[0;31m---------------------------------------------------------------------------\u001b[0m",
      "\u001b[0;31mNameError\u001b[0m                                 Traceback (most recent call last)",
      "Cell \u001b[0;32mIn[5], line 1\u001b[0m\n\u001b[0;32m----> 1\u001b[0m \u001b[38;5;28mprint\u001b[39m(\u001b[43moutput_image\u001b[49m)\n",
      "\u001b[0;31mNameError\u001b[0m: name 'output_image' is not defined"
     ]
    }
   ],
   "source": [
    "print(output_image)"
   ]
  },
  {
   "cell_type": "code",
   "execution_count": 4,
   "id": "b05525de-ea72-4d42-a59b-6dfd4661cc6b",
   "metadata": {},
   "outputs": [
    {
     "ename": "NameError",
     "evalue": "name 'contours' is not defined",
     "output_type": "error",
     "traceback": [
      "\u001b[0;31m---------------------------------------------------------------------------\u001b[0m",
      "\u001b[0;31mNameError\u001b[0m                                 Traceback (most recent call last)",
      "Cell \u001b[0;32mIn[4], line 1\u001b[0m\n\u001b[0;32m----> 1\u001b[0m \u001b[38;5;28mprint\u001b[39m(\u001b[43mcontours\u001b[49m[\u001b[38;5;241m0\u001b[39m])\n",
      "\u001b[0;31mNameError\u001b[0m: name 'contours' is not defined"
     ]
    }
   ],
   "source": [
    "print(contours[0])"
   ]
  },
  {
   "cell_type": "code",
   "execution_count": null,
   "id": "20d42aed-059a-4fc6-af2b-60cd56189a9f",
   "metadata": {},
   "outputs": [
    {
     "name": "stdout",
     "output_type": "stream",
     "text": [
      "Area: 26928.0\n",
      "Diameter: 90470880.49274547\n",
      "Eccentricity: 0.2035088220995739\n"
     ]
    }
   ],
   "source": [
    "# Compute the moments of the contour\n",
    "moments = cv2.moments(contours[0])\n",
    "\n",
    "# Calculate the central moments\n",
    "mu20 = moments['mu20']\n",
    "mu02 = moments['mu02']\n",
    "mu11 = moments['mu11']\n",
    "\n",
    "# Calculate the diameter\n",
    "diameter = 12 * np.sqrt(mu20 + mu02) + 4 * np.sqrt((mu20 - mu02) ** 2 + 4 * mu11 ** 2) / np.sqrt(2)\n",
    "\n",
    "# Calculate the area\n",
    "area = moments['m00']\n",
    "\n",
    "# Calculate eccentricity\n",
    "eccentricity = np.sqrt((mu20 - mu02) ** 2 + 4 * mu11 ** 2) / (mu20 + mu02 + np.sqrt((mu20 - mu02) ** 2 + 4 * mu11 ** 2))\n",
    "\n",
    "# Print results\n",
    "print(\"Area:\", area)\n",
    "print(\"Diameter:\", diameter)\n",
    "print(\"Eccentricity:\", eccentricity)\n"
   ]
  },
  {
   "cell_type": "code",
   "execution_count": null,
   "id": "9b9fd241-1383-4d16-bd97-84daaf32f6b6",
   "metadata": {},
   "outputs": [],
   "source": [
    "def calculate_color_features(image):\n",
    "    # Convert image to RGB color space\n",
    "    rgb_image = cv2.cvtColor(output_image, cv2.COLOR_BGR2RGB)\n",
    "    \n",
    "    # Convert image to LAB color space\n",
    "    lab_image = cv2.cvtColor(output_image, cv2.COLOR_BGR2LAB)\n",
    "    \n",
    "    # Extract the chosen channel from RGB and LAB color spaces\n",
    "    # For example, to choose the blue channel from RGB and the b* channel from LAB\n",
    "    channel_rgb = rgb_image[:, :, 2]  # Assuming blue channel\n",
    "    channel_lab = lab_image[:, :, 2]  # Assuming b* channel\n",
    "    \n",
    "    # Calculate statistical characteristics\n",
    "    min_channel = np.min(channel_rgb)\n",
    "    max_channel = np.max(channel_rgb)\n",
    "    var_channel = np.var(channel_rgb)\n",
    "    mean_channel = np.mean(channel_rgb)\n",
    "    \n",
    "    min_lab = np.min(channel_lab)\n",
    "    max_lab = np.max(channel_lab)\n",
    "    var_lab = np.var(channel_lab)\n",
    "    mean_lab = np.mean(channel_lab)\n",
    "    \n",
    "    return {\n",
    "        'min_rgb': min_channel,\n",
    "        'max_rgb': max_channel,\n",
    "        'var_rgb': var_channel,\n",
    "        'mean_rgb': mean_channel,\n",
    "        'min_lab': min_lab,\n",
    "        'max_lab': max_lab,\n",
    "        'var_lab': var_lab,\n",
    "        'mean_lab': mean_lab\n",
    "    }"
   ]
  },
  {
   "cell_type": "code",
   "execution_count": null,
   "id": "6ccf5cbf-b9ec-40e8-ab1c-e4cdbddfcd56",
   "metadata": {},
   "outputs": [],
   "source": [
    "\n",
    "def compute_entropy(p):\n",
    "    # Ensure p is an array to handle division by zero\n",
    "    p = np.array(p)\n",
    "    # Avoid division by zero by adding a small constant\n",
    "    p = p + np.finfo(float).eps\n",
    "    return -np.sum(p * np.log2(p))\n",
    "\n",
    "def compute_mutual_information(p_xy, p_x, p_y):\n",
    "    # Calculate entropies\n",
    "    H_X = compute_entropy(p_x)\n",
    "    H_Y = compute_entropy(p_y)\n",
    "    H_XY = compute_entropy(p_xy)\n",
    "    # Calculate mutual information\n",
    "    return H_X + H_Y - H_XY\n",
    "\n",
    "\n",
    "def computeIMC(Px, Py, Pd):\n",
    "    # Calculate entropies\n",
    "    H_X = compute_entropy(Px)\n",
    "    H_Y = compute_entropy(Py)\n",
    "    H_XY = compute_entropy(Pd)\n",
    "\n",
    "    # Assuming p_xy1 and p_xy2 are defined elsewhere\n",
    "    joint_entropy_xy1 = compute_entropy(p_xy1)\n",
    "    joint_entropy_xy2 = compute_entropy(p_xy2)\n",
    "\n",
    "    # Calculate mutual information\n",
    "    mutual_information_xy = compute_mutual_information(Pd, Px, Py)\n",
    "\n",
    "    # Calculate joint entropies for scenarios 1 and 2\n",
    "    joint_entropy_xy1 = compute_entropy(p_xy1)\n",
    "    joint_entropy_xy2 = compute_entropy(p_xy2)\n",
    "\n",
    "    # Calculate IMCorr1 and IMCorr2\n",
    "    IMCorr1 = (mutual_information_xy - mutual_information_x_y1) / max(H_X, H_Y)\n",
    "    IMCorr2 = np.sqrt(1 - np.exp(-2 * (joint_entropy_xy2 - joint_entropy_xy)))\n",
    "\n",
    "    # Return IMCorr1 and IMCorr2 values\n",
    "    return IMCorr1, IMCorr2\n"
   ]
  },
  {
   "cell_type": "code",
   "execution_count": null,
   "id": "76534fcd-1966-4a51-a737-e2b7cc5b40a3",
   "metadata": {},
   "outputs": [],
   "source": [
    "def calculate_texture_features():\n",
    "    # Convert image to grayscale    \n",
    "    # Compute the GLCM\n",
    "    distances = [0]  # You can adjust the distances if needed\n",
    "    angles = [0, np.pi/4, np.pi/2, 3*np.pi/4]  # Adjust angles as needed\n",
    "    glcm = graycomatrix(gray_image, distances=distances, angles=angles, symmetric=True, normed=True)\n",
    "\n",
    "\n",
    "    #potential bug in dimensionality reduction\n",
    "    glcm_2d = glcm[0, 0, :, :]\n",
    "\n",
    "    N = glcm_2d.shape[0] # Number of gray levels\n",
    "    print(glcm.shape)\n",
    "    \n",
    "    # Calculate statistical texture features\n",
    "    asm = graycoprops(glcm, 'ASM').flatten().mean()\n",
    "    contrast = graycoprops(glcm, 'contrast').flatten().mean()\n",
    "    correlation = graycoprops(glcm, 'correlation').flatten().mean()\n",
    "    variance = graycoprops(glcm, 'ASM').flatten().var()\n",
    "    idm = np.sum(1 / (1 + np.arange(N)[:, None] - np.arange(N)[None, :]) ** 2 * glcm)\n",
    "    entropy = -np.sum(glcm * np.log(glcm + 1e-15))  # Avoid division by zero\n",
    "\n",
    "    imcorr1, imcorr2 = computeIMC()\n",
    "    \n",
    "    return {\n",
    "        'ASM': asm,\n",
    "        'contrast': contrast,\n",
    "        'correlation': correlation,\n",
    "        'variance': variance,\n",
    "        'IDM': idm,\n",
    "        'entropy': entropy, #BUG\n",
    "        'Sum_Variance': sum_variance,\n",
    "        'Sum_Entropy': sum_entropy,\n",
    "        'Difference_Variance': difference_variance,\n",
    "        'Difference_Entropy': difference_entropy,\n",
    "        'IMCorr1': imcorr1,\n",
    "        'IMCorr2': imcorr2,\n",
    "    }"
   ]
  },
  {
   "cell_type": "code",
   "execution_count": null,
   "id": "2ef8fc00-31e2-4b1c-9f48-c598949309e0",
   "metadata": {},
   "outputs": [],
   "source": [
    "def calculate_symmetry(bin_image):    \n",
    "    \n",
    "    # Calculate the symmetry mask\n",
    "    symmetry_mask = cv2.bitwise_or(bin_image, cv2.flip(bin_img, 1))\n",
    "    \n",
    "    # Calculate the synthetic image A\n",
    "    synthetic_image = cv2.bitwise_or(bin_img, symmetry_mask)\n",
    "    \n",
    "    # Calculate the symmetry value at 0 degrees\n",
    "    symmetry_0_degrees = 1 - (cv2.countNonZero(synthetic_image) / cv2.countNonZero(bin_img))\n",
    "    \n",
    "    # Calculate the symmetry value at 90 degrees\n",
    "    rotated_image = cv2.rotate(synthetic_image, cv2.ROTATE_90_CLOCKWISE)\n",
    "    symmetry_90_degrees = 1 - (cv2.countNonZero(rotated_image) / cv2.countNonZero(bin_img))\n",
    "    \n",
    "    # Calculate the average symmetry value\n",
    "    average_symmetry = (symmetry_0_degrees + symmetry_90_degrees) / 2\n",
    "    \n",
    "    return average_symmetry"
   ]
  },
  {
   "cell_type": "code",
   "execution_count": null,
   "id": "a86c5a8d",
   "metadata": {},
   "outputs": [],
   "source": [
    "def extract_handcrafted(img):\n",
    "    gray_image = cv2.cvtColor(output_image, cv2.COLOR_BGR2GRAY)\n",
    "    contours, _ = cv2.findContours(gray_image, cv2.RETR_EXTERNAL, cv2.CHAIN_APPROX_SIMPLE)\n",
    "\n",
    "    moments = cv2.moments(contours[0])\n",
    "\n",
    "    # Calculate the central moments\n",
    "    mu20 = moments['mu20']\n",
    "    mu02 = moments['mu02']\n",
    "    mu11 = moments['mu11']\n",
    "\n",
    "    #potential bug in the value of the area\n",
    "    total_area = 0\n",
    "    for contour in contours:\n",
    "        area = cv2.contourArea(contour)\n",
    "        total_area += area\n",
    "                        \n",
    "\n",
    "    perimeter = cv2.arcLength(contours[0], True)\n",
    "    circularity = (4 * np.pi * area) / (perimeter ** 2)        \n",
    "    diameter = np.sqrt(4 * area / np.pi)\n",
    "    eccentricity = np.sqrt((mu20 - mu02) ** 2 + 4 * mu11 ** 2) / (mu20 + mu02 + np.sqrt((mu20 - mu02) ** 2 + 4 * mu11 ** 2))\n",
    "\n",
    "    color_features = calculate_color_features(image)\n",
    "    color_features = np.array([color_features])\n",
    "\n",
    "    texture_features = calculate_texture_features()\n",
    "    texture_features = np.array([texture_features])\n",
    "\n",
    "    bin_image = binary_mask(output_image)\n",
    "\n",
    "    symmetry_value = calculate_symmetry()\n",
    "    symmetry_value = np.array([symmetry_value])\n",
    "\n",
    "    handcrafted_features = np.concatenate([np.array([area, perimeter, circularity, diameter, eccentricity]),\n",
    "                                        color_features, texture_features, symmetry_value])"
   ]
  }
 ],
 "metadata": {
  "kernelspec": {
   "display_name": "Python 3 (ipykernel)",
   "language": "python",
   "name": "python3"
  },
  "language_info": {
   "codemirror_mode": {
    "name": "ipython",
    "version": 3
   },
   "file_extension": ".py",
   "mimetype": "text/x-python",
   "name": "python",
   "nbconvert_exporter": "python",
   "pygments_lexer": "ipython3",
   "version": "3.11.5"
  }
 },
 "nbformat": 4,
 "nbformat_minor": 5
}
