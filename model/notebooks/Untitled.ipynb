{
 "cells": [
  {
   "cell_type": "code",
   "execution_count": 1,
   "id": "35333b51-94f2-43df-8844-403015e1d172",
   "metadata": {},
   "outputs": [
    {
     "name": "stderr",
     "output_type": "stream",
     "text": [
      "2024-03-16 22:21:34.377599: I external/local_tsl/tsl/cuda/cudart_stub.cc:31] Could not find cuda drivers on your machine, GPU will not be used.\n",
      "2024-03-16 22:21:36.442977: E external/local_xla/xla/stream_executor/cuda/cuda_dnn.cc:9261] Unable to register cuDNN factory: Attempting to register factory for plugin cuDNN when one has already been registered\n",
      "2024-03-16 22:21:36.443116: E external/local_xla/xla/stream_executor/cuda/cuda_fft.cc:607] Unable to register cuFFT factory: Attempting to register factory for plugin cuFFT when one has already been registered\n",
      "2024-03-16 22:21:36.711597: E external/local_xla/xla/stream_executor/cuda/cuda_blas.cc:1515] Unable to register cuBLAS factory: Attempting to register factory for plugin cuBLAS when one has already been registered\n",
      "2024-03-16 22:21:37.609883: I external/local_tsl/tsl/cuda/cudart_stub.cc:31] Could not find cuda drivers on your machine, GPU will not be used.\n",
      "2024-03-16 22:21:51.726173: W tensorflow/compiler/tf2tensorrt/utils/py_utils.cc:38] TF-TRT Warning: Could not find TensorRT\n"
     ]
    }
   ],
   "source": [
    "import tensorflow as tf\n",
    "import numpy as np\n",
    "import cv2\n"
   ]
  },
  {
   "cell_type": "code",
   "execution_count": null,
   "id": "e71cf69b-ef41-44b6-b8a0-cb1a0f4d0469",
   "metadata": {},
   "outputs": [],
   "source": [
    "%run "
   ]
  },
  {
   "cell_type": "code",
   "execution_count": null,
   "id": "d8386e0d-366e-47e8-9e90-f330cf50233f",
   "metadata": {},
   "outputs": [],
   "source": [
    "dl_extraction = ...  # e.g., MobileNetV2 without the top layer\n",
    "\n",
    "# Define classification model\n",
    "classifier = ...  # e.g., Linear SVM, RVM\n",
    "\n",
    "# Create TensorFlow dataset pipeline\n",
    "dataset = tf.data.Dataset.from_tensor_slices((X_train, y_train))\n",
    "dataset = dataset.map(preprocess_image)  # Apply image preprocessing\n",
    "dataset = dataset.map(dl_extraction)  # Extract features\n",
    "dataset = dataset.map(handcrafted)  # Extract handcrafted features\n",
    "dataset = dataset.map(handcrafted)  # Extract handcrafted features\n",
    "dataset = dataset.batch(batch_size)\n",
    "\n",
    "# Compile and train the classifier model\n",
    "classifier.compile(...)\n",
    "classifier.fit(dataset, epochs=num_epochs)"
   ]
  }
 ],
 "metadata": {
  "kernelspec": {
   "display_name": "Python 3 (ipykernel)",
   "language": "python",
   "name": "python3"
  },
  "language_info": {
   "codemirror_mode": {
    "name": "ipython",
    "version": 3
   },
   "file_extension": ".py",
   "mimetype": "text/x-python",
   "name": "python",
   "nbconvert_exporter": "python",
   "pygments_lexer": "ipython3",
   "version": "3.11.5"
  }
 },
 "nbformat": 4,
 "nbformat_minor": 5
}
