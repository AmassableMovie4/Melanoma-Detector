{
 "cells": [
  {
   "cell_type": "code",
   "execution_count": 4,
   "id": "ce845088-960b-4d50-8033-9b6c975b69a8",
   "metadata": {},
   "outputs": [],
   "source": [
    "import os\n",
    "import numpy as np\n",
    "import pandas as pd\n",
    "import shutil\n",
    "import cv2"
   ]
  },
  {
   "cell_type": "code",
   "execution_count": 14,
   "id": "3d6b3cde-fcc1-4de1-91ba-3c2018dc8da5",
   "metadata": {},
   "outputs": [],
   "source": [
    "base_dir = '/home/vuk/Documents/ML_Data/CDA1'\n",
    "csv_loc = '/home/vuk/Documents/ML_Data/CDA1/HAM10000_metadata.csv'\n",
    "ham_dir ='/home/vuk/Documents/ML_Data/CDA1/HAM10000'\n",
    "test_dataset_dir = '/home/vuk/Melanoma-Detector/model/test_dataset'"
   ]
  },
  {
   "cell_type": "code",
   "execution_count": 21,
   "id": "c4e603b7-de02-4ca2-ad8c-65424bae95d9",
   "metadata": {},
   "outputs": [
    {
     "name": "stdout",
     "output_type": "stream",
     "text": [
      "ls: cannot access '/home/vuk/Documents/ML_Data/CDA1/HAM1000': No such file or directory\n"
     ]
    }
   ],
   "source": [
    "!ls -l /home/vuk/Documents/ML_Data/CDA1/HAM10000"
   ]
  },
  {
   "cell_type": "code",
   "execution_count": 28,
   "id": "87366a1c-9b55-4465-97f8-a11304835ee6",
   "metadata": {},
   "outputs": [
    {
     "name": "stdout",
     "output_type": "stream",
     "text": [
      "Directory '/home/vuk/Melanoma-Detector/model/test_dataset/benign' already exists.\n",
      "Directory '/home/vuk/Melanoma-Detector/model/test_dataset/malignant' already exists.\n"
     ]
    }
   ],
   "source": [
    "for subfolder in ['benign','malignant']:\n",
    "    subfolder_path = os.path.join(test_dataset_dir, subfolder)\n",
    "    if not os.path.exists(subfolder_path):\n",
    "        os.makedirs(subfolder_path)\n",
    "    else:\n",
    "        print(f\"Directory '{subfolder_path}' already exists.\")"
   ]
  },
  {
   "cell_type": "code",
   "execution_count": 36,
   "id": "de0b5f0e-3828-431f-a521-8929d469d218",
   "metadata": {},
   "outputs": [
    {
     "name": "stdout",
     "output_type": "stream",
     "text": [
      "-rw-rw-r-- 1 vuk vuk 311921 okt  6  2019 ISIC_0027419.jpg\n"
     ]
    }
   ],
   "source": [
    "!ls -l /home/vuk/Documents/ML_Data/CDA1/HAM10000 | grep 'ISIC_0027419'"
   ]
  },
  {
   "cell_type": "code",
   "execution_count": 43,
   "id": "e549955e-875c-47a3-94b2-cc6779f11cdc",
   "metadata": {},
   "outputs": [],
   "source": [
    "with open(csv_loc) as file:\n",
    "    # Skip the header line\n",
    "    next(file)\n",
    "    \n",
    "    # Counter to track the number of images moved\n",
    "    num_images_moved = 0\n",
    "    \n",
    "    # Iterate through each line in the file\n",
    "    for line in file:\n",
    "        # Split the line by comma\n",
    "        split_line = line.split(',')\n",
    "        \n",
    "        # Extract the image file and tumor type\n",
    "        img_file = split_line[1].strip()\n",
    "        tumor_type = split_line[2].strip()\n",
    "\n",
    "        # Determine the class directory based on the tumor type\n",
    "        class_dir = 'benign' if tumor_type not in ['bcc', 'mel'] else 'malignant'\n",
    "        \n",
    "        # Construct the source file path\n",
    "        source_file_path = os.path.join(ham_dir, img_file + '.jpg')\n",
    "        \n",
    "        # Construct the destination directory path\n",
    "        destination_dir = os.path.join(test_dataset_dir, class_dir)\n",
    "        \n",
    "        # Create the destination directory if it doesn't exist\n",
    "        if not os.path.exists(destination_dir):\n",
    "            os.makedirs(destination_dir)\n",
    "    \n",
    "        # Construct the destination file path\n",
    "        destination_file_path = os.path.join(destination_dir, img_file + '.jpg')\n",
    "        \n",
    "        # Move the image to the destination directory only if the filename is not \"ISIC_0027419\"\n",
    "        if img_file != \"ISIC_0027419\":\n",
    "            shutil.move(source_file_path, destination_file_path)\n",
    "            num_images_moved += 1\n",
    "        \n",
    "        # Break the loop if 200 images have been moved\n",
    "        if num_images_moved >= 200:\n",
    "            break\n"
   ]
  },
  {
   "cell_type": "code",
   "execution_count": null,
   "id": "83979782-eeff-42a9-9db0-ef57ce009b6d",
   "metadata": {},
   "outputs": [],
   "source": [
    "def pre_processing(img):\n",
    "    image = cv2.imread(img_path)\n",
    "    image_blurred = cv2.GaussianBlur(image, (5, 5), 1)\n",
    "    lab_image = cv2.cvtColor(image_blurred, cv2.COLOR_BGR2LAB)\n",
    "    gray_image = cv2.cvtColor(image_blurred, cv2.COLOR_BGR2GRAY)\n",
    "    \n",
    "    # To find upper threshold, we need to apply Otsu's thresholding\n",
    "    upper_threshold, thresh_image = cv2.threshold(\n",
    "        gray_image, thresh=0, maxval=255, type=cv2.THRESH_BINARY + cv2.THRESH_OTSU\n",
    "    )\n",
    "    # Calculate lower threshold\n",
    "    lower_threshold = 0.5 * upper_threshold\n",
    "    \n",
    "    # Apply canny edge detection\n",
    "    canny = cv2.Canny(gray_image, lower_threshold, upper_threshold)\n",
    "    # Finding the non-zero points of canny\n",
    "    pts = np.argwhere(canny > 0)\n",
    "    \n",
    "    # Finding the min and max points\n",
    "    y1, x1 = pts.min(axis=0)\n",
    "    y2, x2 = pts.max(axis=0)\n",
    "    \n",
    "    # Crop ROI from the givn image\n",
    "    output_image = image[y1:y2, x1:x2]\n",
    "\n",
    "    return output_image"
   ]
  },
  {
   "cell_type": "code",
   "execution_count": null,
   "id": "0b1b63c3-7c6c-4b83-a3b0-e880348c17f9",
   "metadata": {},
   "outputs": [],
   "source": [
    "def binary_mask(image):\n",
    "    IL, Ia, Ib = cv2.split(img)\n",
    "    avg_IL = np.mean(IL)\n",
    "    avg_Ia = np.mean(Ia)\n",
    "    avg_Ib = np.mean(Ib)\n",
    "\n",
    "    print(avg_IL,avg_Ia,avg_Ib)\n",
    "    \n",
    "    IThL = np.where(IL >= avg_IL, 1, 0)\n",
    "    ITha = np.where(Ia >= avg_Ia, 1, 0)\n",
    "    IThb = np.where(Ib >= avg_Ib, 1, 0)\n",
    "\n",
    "    Ibin = cv2.bitwise_and(IThL, ITha)\n",
    "    Ibin = cv2.bitwise_and(Ibin, IThb)\n",
    "    Ibin_uint8 = Ibin.astype(np.uint8)\n",
    "    return Ibin"
   ]
  },
  {
   "cell_type": "code",
   "execution_count": null,
   "id": "75d32630-054e-4095-a891-8ef076b1c588",
   "metadata": {},
   "outputs": [],
   "source": [
    "def save_images(img, imgBin, destination_folder):\n",
    "    cv2.imwrite(os.path.join(destination_folder, 'roi_' + img + '.jpg'), roi_image)\n",
    "    cv2.imwrite(os.path.join(destination_folder, 'binary_' + imgBin + '.jpg'), binary_mask)"
   ]
  },
  {
   "cell_type": "code",
   "execution_count": null,
   "id": "dd989846-7234-408a-b902-e6d7808d45e2",
   "metadata": {},
   "outputs": [],
   "source": [
    "for image in os.path('test_dataset'):\n",
    "    img = output_image(image)\n",
    "    imgBin = binary_mask(image)\n",
    "    save_images(img,imgBin, 'test_dataset')\n",
    "    \n",
    "    "
   ]
  }
 ],
 "metadata": {
  "kernelspec": {
   "display_name": "Python 3 (ipykernel)",
   "language": "python",
   "name": "python3"
  },
  "language_info": {
   "codemirror_mode": {
    "name": "ipython",
    "version": 3
   },
   "file_extension": ".py",
   "mimetype": "text/x-python",
   "name": "python",
   "nbconvert_exporter": "python",
   "pygments_lexer": "ipython3",
   "version": "3.11.5"
  }
 },
 "nbformat": 4,
 "nbformat_minor": 5
}
